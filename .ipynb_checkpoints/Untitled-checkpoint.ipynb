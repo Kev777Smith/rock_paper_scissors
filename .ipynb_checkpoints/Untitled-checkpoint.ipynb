{
 "cells": [
  {
   "cell_type": "code",
   "execution_count": null,
   "id": "58e82da7",
   "metadata": {},
   "outputs": [
    {
     "name": "stdout",
     "output_type": "stream",
     "text": [
      "Enter your choice (Rock/Paper/Scissors) or 'I quit' to end the game: Rock\n",
      "Computer chose: scissors\n",
      "You win\n",
      "Enter your choice (Rock/Paper/Scissors) or 'I quit' to end the game: Paper\n",
      "Computer chose: rock\n",
      "You win\n",
      "Enter your choice (Rock/Paper/Scissors) or 'I quit' to end the game: Scissors\n",
      "Computer chose: rock\n",
      "You lose\n"
     ]
    }
   ],
   "source": [
    "import random\n",
    "\n",
    "def get_player_choice():\n",
    "    while True:\n",
    "        choice = input(\"Enter your choice (Rock/Paper/Scissors) or 'I quit' to end the game: \").strip().lower()\n",
    "        if choice in [\"rock\", \"paper\", \"scissors\", \"i quit\"]:\n",
    "            return choice\n",
    "        print(\"Invalid choice. Please enter 'Rock', 'Paper', 'Scissors', or 'I quit'.\")\n",
    "\n",
    "def get_computer_choice():\n",
    "    return random.choice([\"rock\", \"paper\", \"scissors\"])\n",
    "\n",
    "def determine_winner(player_choice, computer_choice):\n",
    "    if player_choice == computer_choice:\n",
    "        return \"Game Tied\"\n",
    "    elif player_choice == \"rock\" and computer_choice == \"paper\":\n",
    "        return \"You lose\"\n",
    "    elif player_choice == \"scissors\" and computer_choice == \"rock\":\n",
    "        return \"You lose\"\n",
    "    elif player_choice == \"paper\" and computer_choice == \"scissors\":\n",
    "        return \"You lose\"\n",
    "    else:\n",
    "        return \"You win\"\n",
    "\n",
    "def play_game():\n",
    "    while True:\n",
    "        player_choice = get_player_choice()\n",
    "        if player_choice == \"i quit\":\n",
    "            print(\"Thank you for playing.\")\n",
    "            break\n",
    "\n",
    "        computer_choice = get_computer_choice()\n",
    "        print(f\"Computer chose: {computer_choice}\")\n",
    "\n",
    "        result = determine_winner(player_choice, computer_choice)\n",
    "        print(result)\n",
    "        \n",
    "play_game()\n"
   ]
  }
 ],
 "metadata": {
  "kernelspec": {
   "display_name": "Python 3 (ipykernel)",
   "language": "python",
   "name": "python3"
  },
  "language_info": {
   "codemirror_mode": {
    "name": "ipython",
    "version": 3
   },
   "file_extension": ".py",
   "mimetype": "text/x-python",
   "name": "python",
   "nbconvert_exporter": "python",
   "pygments_lexer": "ipython3",
   "version": "3.9.13"
  }
 },
 "nbformat": 4,
 "nbformat_minor": 5
}
